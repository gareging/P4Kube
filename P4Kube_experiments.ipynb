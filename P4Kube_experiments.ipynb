{
 "cells": [
  {
   "cell_type": "code",
   "execution_count": null,
   "id": "b4c6b066-cbc6-4faf-83c0-80df5e2c0793",
   "metadata": {},
   "outputs": [],
   "source": [
    "# Initializing the project and the keys\n",
    "from fabrictestbed_extensions.fablib.fablib import FablibManager as fablib_manager\n",
    "\n",
    "# Update this line to specify your project id\n",
    "project_id = \"5f00e1ce-d082-4a2b-b08f-889658e932b7\"\n",
    "\n",
    "fablib = fablib_manager(project_id=project_id)\n",
    "\n",
    "# Import Fablib\n",
    "from fabrictestbed_extensions.fablib.fablib import FablibManager as fablib_manager\n",
    "fablib = fablib_manager()                     \n",
    "#fablib.show_config()\n",
    "import json\n",
    "import traceback\n",
    "\n",
    "fablib.verify_and_configure()\n",
    "!chmod 0600 fabric_config/fabric_bastion_key\n",
    "!chmod 0600 fabric_config/slice_key\n",
    "\n",
    "slice_name = 'My_P4Kube_slice' \n",
    "try:\n",
    "    # Reinitializes the existing slice\n",
    "    slice = fablib.get_slice(slice_name)\n",
    "    slice.list_nodes()\n",
    "    print('Done retrieving the existing slice')\n",
    "except:\n",
    "    print('Slice not found')"
   ]
  },
  {
   "cell_type": "code",
   "execution_count": null,
   "id": "61168956-8fbd-4989-bc3b-ed9a9248b30a",
   "metadata": {},
   "outputs": [],
   "source": [
    "print('INSTALL STRESS_NG on nodes, and download the experiment scripts')\n",
    "for node_name in [f'node{i}' for i in range(1, 11)]:\n",
    "    node = slice.get_node(node_name)\n",
    "    script = f\"\"\"\n",
    "        sudo apt-get install stress-ng -y;\n",
    "        wget https://raw.githubusercontent.com/gareging/P4Kube/refs/heads/main/cpu_load_test_1_node.sh;\n",
    "        wget https://github.com/gareging/P4Kube/blob/main/cpu_load_test_2_nodes.sh;\n",
    "        chmod +x cpu_load_test_1_node.sh;\n",
    "        chmod +x cpu_load_test_2_nodes.sh;\n",
    "    \"\"\"\n",
    "    node.execute(script)\n",
    "print('All done, move to the next step')"
   ]
  },
  {
   "cell_type": "code",
   "execution_count": null,
   "id": "3706aa2b-4cf5-487f-9963-c438addadeec",
   "metadata": {},
   "outputs": [],
   "source": [
    "print('Install ab benchmarking on the client machine')\n",
    "node = slice.get_node('client')\n",
    "node.execute('sudo apt install apache2-utils -y')\n",
    "print('All done, move to the next step')"
   ]
  },
  {
   "cell_type": "code",
   "execution_count": null,
   "id": "e5ed59d6-8f17-44b6-b737-393b9f18b5df",
   "metadata": {},
   "outputs": [],
   "source": [
    "# Script parameters\n",
    "\n",
    "# Run the stress test\n",
    "stress = False\n",
    "# Set the script name to either 'cpu_load_test_1_node.sh' or 'cpu_load_test_2_nodes.sh'\n",
    "script_name = 'cpu_load_test_1_node.sh'\n",
    "# Total number of request\n",
    "total = 1000\n",
    "# Total number of request\n",
    "concur = 500\n",
    "# Timeout (default is 30)\n",
    "timeout = 30\n",
    "# URL of the deployment\n",
    "url = 'http://10.0.0.2/'\n",
    "# Version of P4Kube you would like to test: LA (Load aware) or NO_LA (Load un-aware)\n",
    "type_ = \"LA\"\n"
   ]
  },
  {
   "cell_type": "code",
   "execution_count": null,
   "id": "8a3e78d8-db08-4143-8bd9-0ddbfa1ab804",
   "metadata": {},
   "outputs": [],
   "source": [
    "print('Setting up plugin based on the selected choice of load-balancing algorithm')\n",
    "node = slice.get_node('master')\n",
    "\n",
    "load_aware_string = \"LOAD_AWARE\" if type_ == \"LA\" else \"NO_LOAD_AWARE\"\n",
    "\n",
    "print('Removing the current plugin instance')\n",
    "script = \"pkill -f kubectl-p4_loadbalancer\"\n",
    "node.execute(script)\n",
    "\n",
    "print('Restarting the plugin')\n",
    "script = f'''\n",
    "echo \"Start\"\n",
    "export PATH=\"/home/ubuntu/P4Kube/kubectl-plugin:/usr/local/go/bin:$PATH\"\n",
    "echo \"Path installed\"\n",
    "cd /home/ubuntu/P4Kube/kubectl-plugin || (echo \"cd failed\" && exit 1)\n",
    "echo \"Directory switched\"\n",
    "echo \"Stopped previous plugin run\"\n",
    "cp main.go_{load_aware_string} main.go || (echo \"cp failed\" && exit 1)\n",
    "go build -o kubectl-p4_loadbalancer main.go || (echo \"go build failed\" && exit 1)\n",
    "nohup ./kubectl-p4_loadbalancer > plugin.log 2>&1 &\n",
    "echo \"Plugin started\"\n",
    "'''\n",
    "node.execute(script)\n",
    "print('Enabled', type_)\n",
    "print(\"Move to next step\")\n"
   ]
  },
  {
   "cell_type": "code",
   "execution_count": null,
   "id": "1fca2b1c-4cfb-4045-a4f1-7c4dc833cfcc",
   "metadata": {},
   "outputs": [],
   "source": [
    "print('Starting the load pattern on worker nodes and starting the client')\n",
    "node_names = [f\"node{i}\" for i in range(1, 11)]\n",
    "\n",
    "# Get all node objects from the slice\n",
    "nodes = [slice.get_node(name) for name in node_names]\n",
    "\n",
    "# Run the script in background with nohup (survives session end), save PID\n",
    "if stress:\n",
    "    for node in nodes:\n",
    "        print(f\"Starting on {node.get_name()}\")\n",
    "        node.execute(f'nohup bash -c \"./{script_name} $HOSTNAME\" > cpu.log 2>&1 & echo $! > cpu10.pid')\n",
    "    \n",
    "print(f'Starting test for {load_aware_string}')\n",
    "print('Wait until the client node reports about the end of the experiment')\n",
    "node = slice.get_node('client')\n",
    "script = f'''nohup ab -n {total} -c {concur} -s {timeout} -l -r {url} > results_{type_}_{total}_c_{concur}.txt &'''\n",
    "node.execute(script)\n",
    "print('Experiment is over, move to the next step to see the results')"
   ]
  },
  {
   "cell_type": "code",
   "execution_count": null,
   "id": "57eb4355-77f2-4cc9-9013-a4b08615d5fe",
   "metadata": {},
   "outputs": [],
   "source": [
    "print('Results')\n",
    "print(type_, 'c=', concur, 'total=', total, 'test type', script_name)\n",
    "node = slice.get_node('client')\n",
    "node.execute(f'cat results_{type_}_{total}_c_{concur}.txt')\n",
    "\n",
    "print('Cleaning up')\n",
    "if stress:\n",
    "    node_names = [f\"node{i}\" for i in range(1, 11)]\n",
    "    nodes = [slice.get_node(name) for name in node_names]\n",
    "    for node in nodes:\n",
    "        print(f\"Stopping on {node.get_name()}\")\n",
    "        node.execute('sudo kill $(cat cpu10.pid) || true; sudo rm -f cpu10.pid || true;')\n",
    "        node.execute(f\"pkill -f '/bin/bash ./{script_name}' || true\")\n",
    "        node.execute(\"sudo pkill stress-ng-cpu || true\")\n",
    "        #node.execute('''ps -eo pid,cmd | grep \"[c]pu_10.sh\" | awk '{print $1}' | xargs kill -9''')\n",
    "    print('CPU overload stopped')\n",
    "        \n",
    "print('Done')"
   ]
  },
  {
   "cell_type": "code",
   "execution_count": null,
   "id": "6b48838d-b019-4853-9bc3-44c775db8cc3",
   "metadata": {},
   "outputs": [],
   "source": []
  }
 ],
 "metadata": {
  "kernelspec": {
   "display_name": "Python 3 (ipykernel)",
   "language": "python",
   "name": "python3"
  },
  "language_info": {
   "codemirror_mode": {
    "name": "ipython",
    "version": 3
   },
   "file_extension": ".py",
   "mimetype": "text/x-python",
   "name": "python",
   "nbconvert_exporter": "python",
   "pygments_lexer": "ipython3",
   "version": "3.11.9"
  }
 },
 "nbformat": 4,
 "nbformat_minor": 5
}
